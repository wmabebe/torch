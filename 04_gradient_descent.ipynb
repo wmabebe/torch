{
 "cells": [
  {
   "cell_type": "code",
   "execution_count": 8,
   "id": "c301b73d",
   "metadata": {},
   "outputs": [
    {
     "name": "stdout",
     "output_type": "stream",
     "text": [
      "Pred before training: f() = 0.000\n",
      "epoch 1:\t w=1.200 \t loss=30.00000000\n",
      "epoch 2:\t w=1.680 \t loss=4.79999924\n",
      "epoch 3:\t w=1.872 \t loss=0.76800019\n",
      "epoch 4:\t w=1.949 \t loss=0.12288000\n",
      "epoch 5:\t w=1.980 \t loss=0.01966083\n",
      "epoch 6:\t w=1.992 \t loss=0.00314574\n",
      "epoch 7:\t w=1.997 \t loss=0.00050331\n",
      "epoch 8:\t w=1.999 \t loss=0.00008053\n",
      "epoch 9:\t w=1.999 \t loss=0.00001288\n",
      "epoch 10:\t w=2.000 \t loss=0.00000206\n",
      "epoch 11:\t w=2.000 \t loss=0.00000033\n",
      "epoch 12:\t w=2.000 \t loss=0.00000005\n",
      "epoch 13:\t w=2.000 \t loss=0.00000001\n",
      "epoch 14:\t w=2.000 \t loss=0.00000000\n",
      "epoch 15:\t w=2.000 \t loss=0.00000000\n",
      "epoch 16:\t w=2.000 \t loss=0.00000000\n",
      "epoch 17:\t w=2.000 \t loss=0.00000000\n",
      "epoch 18:\t w=2.000 \t loss=0.00000000\n",
      "epoch 19:\t w=2.000 \t loss=0.00000000\n",
      "epoch 20:\t w=2.000 \t loss=0.00000000\n",
      "Pred after training: f() = 10.000\n"
     ]
    }
   ],
   "source": [
    "import numpy as np\n",
    "\n",
    "#Numpy implementation requires manual gradient implementation\n",
    "\n",
    "#f = w * x\n",
    "X = np.array([1,2,3,4], dtype=np.float32)\n",
    "y = np.array([2,4,6,8], dtype=np.float32)\n",
    "w = 0.0\n",
    "\n",
    "#model prediction\n",
    "def forward(X):\n",
    "    return w * X\n",
    "\n",
    "#loss\n",
    "def loss(y,y_pred):\n",
    "    return ((y - y_pred) ** 2).mean()\n",
    "\n",
    "#gradients\n",
    "#MSE = 1/N * (w*x - y)**2\n",
    "# dJ/dw = 1/N * 2*x * (w*x - y)\n",
    "def gradient(x,y,y_pred):\n",
    "    return np.dot(2*x, y_pred-y).mean()\n",
    "\n",
    "print(f'Pred before training: f() = {forward(5):.3f}')\n",
    "\n",
    "#Training\n",
    "lr = 0.01\n",
    "n_iters = 20\n",
    "\n",
    "for epoch in range(n_iters):\n",
    "    #pred: forward pass\n",
    "    y_pred = forward(X)\n",
    "    l = loss(y,y_pred)\n",
    "    \n",
    "    #gradients\n",
    "    dw = gradient(X,y,y_pred)\n",
    "    \n",
    "    # update weights\n",
    "    w -= (lr * dw)\n",
    "    \n",
    "    if epoch % 1 == 0:\n",
    "        print(f'epoch {epoch + 1}:\\t w={w:.3f} \\t loss={l:.8f}')\n",
    "\n",
    "print(f'Pred after training: f() = {forward(5):.3f}') "
   ]
  },
  {
   "cell_type": "code",
   "execution_count": 6,
   "id": "2c73d987",
   "metadata": {},
   "outputs": [
    {
     "name": "stdout",
     "output_type": "stream",
     "text": [
      "1.9999999952316283\n"
     ]
    }
   ],
   "source": [
    "print(w)"
   ]
  },
  {
   "cell_type": "code",
   "execution_count": 15,
   "id": "21abf91b",
   "metadata": {},
   "outputs": [
    {
     "name": "stdout",
     "output_type": "stream",
     "text": [
      "epoch 1:\t w=0.300 \t loss=30.00000000\n",
      "epoch 11:\t w=1.665 \t loss=1.16278565\n",
      "epoch 21:\t w=1.934 \t loss=0.04506890\n",
      "epoch 31:\t w=1.987 \t loss=0.00174685\n",
      "epoch 41:\t w=1.997 \t loss=0.00006770\n",
      "epoch 51:\t w=1.999 \t loss=0.00000262\n",
      "epoch 61:\t w=2.000 \t loss=0.00000010\n",
      "epoch 71:\t w=2.000 \t loss=0.00000000\n",
      "epoch 81:\t w=2.000 \t loss=0.00000000\n",
      "epoch 91:\t w=2.000 \t loss=0.00000000\n",
      "Pred after training: f() = 10.000\n"
     ]
    }
   ],
   "source": [
    "#Torch implementaiton\n",
    "import torch\n",
    "X = torch.tensor([1,2,3,4], dtype=torch.float32)\n",
    "y = torch.tensor([2,4,6,8], dtype=torch.float32)\n",
    "\n",
    "w = torch.tensor(0.0, dtype=torch.float32, requires_grad=True)\n",
    "\n",
    "#Resuse the same forward and backward functions\n",
    "\n",
    "n_iters = 100\n",
    "\n",
    "for epoch in range(n_iters):\n",
    "    #pred\n",
    "    y_pred = forward(X)\n",
    "    #loss\n",
    "    l = loss(y,y_pred)\n",
    "    # gradients\n",
    "    l.backward()\n",
    "    \n",
    "    #Remember to update weights with no grads to avoid the auto gradient computation graph from considering it\n",
    "    with torch.no_grad():\n",
    "        w -= lr * w.grad\n",
    "    \n",
    "    #Remember to empty gradients to avoid gradient accumilation for next iteration\n",
    "    w.grad.zero_()\n",
    "    \n",
    "    if epoch % 10 == 0:\n",
    "        print(f'epoch {epoch + 1}:\\t w={w:.3f} \\t loss={l:.8f}')\n",
    "\n",
    "print(f'Pred after training: f() = {forward(5):.3f}')"
   ]
  },
  {
   "cell_type": "code",
   "execution_count": null,
   "id": "c68eec65",
   "metadata": {},
   "outputs": [],
   "source": []
  }
 ],
 "metadata": {
  "kernelspec": {
   "display_name": "Python 3",
   "language": "python",
   "name": "python3"
  },
  "language_info": {
   "codemirror_mode": {
    "name": "ipython",
    "version": 3
   },
   "file_extension": ".py",
   "mimetype": "text/x-python",
   "name": "python",
   "nbconvert_exporter": "python",
   "pygments_lexer": "ipython3",
   "version": "3.9.5"
  }
 },
 "nbformat": 4,
 "nbformat_minor": 5
}
