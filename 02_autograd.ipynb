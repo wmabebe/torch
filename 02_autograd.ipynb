{
 "cells": [
  {
   "cell_type": "code",
   "execution_count": 1,
   "id": "2fb549fb",
   "metadata": {},
   "outputs": [],
   "source": [
    "import torch"
   ]
  },
  {
   "cell_type": "code",
   "execution_count": 33,
   "id": "7b556d45",
   "metadata": {},
   "outputs": [
    {
     "name": "stdout",
     "output_type": "stream",
     "text": [
      "tensor([ 0.2632, -0.2185,  0.6242], requires_grad=True)\n"
     ]
    }
   ],
   "source": [
    "x = torch.randn(3, requires_grad=True)\n",
    "print(x)"
   ]
  },
  {
   "cell_type": "code",
   "execution_count": 34,
   "id": "ee83e50d",
   "metadata": {},
   "outputs": [
    {
     "name": "stdout",
     "output_type": "stream",
     "text": [
      "tensor([2.2632, 1.7815, 2.6242], grad_fn=<AddBackward0>)\n"
     ]
    }
   ],
   "source": [
    "y = x + 2\n",
    "print(y)"
   ]
  },
  {
   "cell_type": "code",
   "execution_count": 35,
   "id": "b48f9fb0",
   "metadata": {},
   "outputs": [
    {
     "name": "stdout",
     "output_type": "stream",
     "text": [
      "tensor([10.2442,  6.3477, 13.7730], grad_fn=<MulBackward0>)\n"
     ]
    }
   ],
   "source": [
    " z = y * y * 2\n",
    "print(z)"
   ]
  },
  {
   "cell_type": "code",
   "execution_count": 36,
   "id": "eaf1069b",
   "metadata": {},
   "outputs": [
    {
     "name": "stdout",
     "output_type": "stream",
     "text": [
      "tensor(10.1216, grad_fn=<MeanBackward0>)\n"
     ]
    }
   ],
   "source": [
    "z = z.mean()\n",
    "print(z)"
   ]
  },
  {
   "cell_type": "code",
   "execution_count": 37,
   "id": "86dbe6a6",
   "metadata": {},
   "outputs": [
    {
     "name": "stdout",
     "output_type": "stream",
     "text": [
      "tensor([3.0176, 2.3754, 3.4989])\n"
     ]
    }
   ],
   "source": [
    "#v = torch.tensor([0.1,1.0,0.001],dtype=torch.float32)\n",
    "#z.backward(v) #dz/dx\n",
    "z.backward()\n",
    "print(x.grad)"
   ]
  },
  {
   "cell_type": "code",
   "execution_count": 39,
   "id": "82a633af",
   "metadata": {},
   "outputs": [
    {
     "name": "stdout",
     "output_type": "stream",
     "text": [
      "tensor([ 0.2632, -0.2185,  0.6242], requires_grad=True)\n",
      "tensor([ 0.2632, -0.2185,  0.6242])\n"
     ]
    }
   ],
   "source": [
    "print(x)\n",
    "x.requires_grad_(False)\n",
    "print(x)\n",
    "x.requires_grad_(True)"
   ]
  },
  {
   "cell_type": "code",
   "execution_count": 44,
   "id": "5ea78b55",
   "metadata": {},
   "outputs": [
    {
     "name": "stdout",
     "output_type": "stream",
     "text": [
      "Epoch  0\n",
      "\tweights =  tensor([1., 1., 1., 1.], requires_grad=True)\n",
      "\tmodel output =  tensor(12., grad_fn=<SumBackward0>)\n",
      "\tgrads =  tensor([3., 3., 3., 3.])\n",
      "Epoch  1\n",
      "\tweights =  tensor([1., 1., 1., 1.], requires_grad=True)\n",
      "\tmodel output =  tensor(12., grad_fn=<SumBackward0>)\n",
      "\tgrads =  tensor([3., 3., 3., 3.])\n",
      "Epoch  2\n",
      "\tweights =  tensor([1., 1., 1., 1.], requires_grad=True)\n",
      "\tmodel output =  tensor(12., grad_fn=<SumBackward0>)\n",
      "\tgrads =  tensor([3., 3., 3., 3.])\n"
     ]
    }
   ],
   "source": [
    "weights = torch.ones(4,requires_grad=True)\n",
    "\n",
    "for epoch in range(3):\n",
    "    print(\"Epoch \",epoch)\n",
    "    print(\"\\tweights = \",weights)\n",
    "    model_output = (weights* 3).sum() #Forward pass\n",
    "    print(\"\\tmodel output = \",model_output)\n",
    "    model_output.backward() #Derivation\n",
    "    print(\"\\tgrads = \", weights.grad)\n",
    "    weights.grad.zero_() #Empty out gradients to avoid accumilation"
   ]
  },
  {
   "cell_type": "code",
   "execution_count": 46,
   "id": "8a675121",
   "metadata": {},
   "outputs": [],
   "source": [
    "# optimizer = torch.optim.SGD(weights,lr=0.01)\n",
    "# optimizer.step()\n",
    "# optimizer.zero_grad()"
   ]
  },
  {
   "cell_type": "code",
   "execution_count": null,
   "id": "fc5532bc",
   "metadata": {},
   "outputs": [],
   "source": []
  }
 ],
 "metadata": {
  "kernelspec": {
   "display_name": "Python 3",
   "language": "python",
   "name": "python3"
  },
  "language_info": {
   "codemirror_mode": {
    "name": "ipython",
    "version": 3
   },
   "file_extension": ".py",
   "mimetype": "text/x-python",
   "name": "python",
   "nbconvert_exporter": "python",
   "pygments_lexer": "ipython3",
   "version": "3.9.5"
  }
 },
 "nbformat": 4,
 "nbformat_minor": 5
}
