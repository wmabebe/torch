{
 "cells": [
  {
   "cell_type": "code",
   "execution_count": 4,
   "id": "ed2f424a",
   "metadata": {},
   "outputs": [],
   "source": [
    "import torch\n",
    "import torchvision\n",
    "from torch.utils.data import Dataset, DataLoader\n",
    "import numpy as np\n",
    "import math"
   ]
  },
  {
   "cell_type": "code",
   "execution_count": 13,
   "id": "d580da0b",
   "metadata": {},
   "outputs": [],
   "source": [
    "class WineDataset(Dataset):\n",
    "    \n",
    "    def __init__(self):\n",
    "        #data loading\n",
    "        xy = np.loadtxt('./wine.csv',delimiter=',',skiprows=2,dtype=np.float32)\n",
    "        #Transform numpy array to tensor\n",
    "        self.x = torch.from_numpy(xy[:,1:]) #all columns minus first\n",
    "        self.y = torch.from_numpy(xy[:,[0]]) #first column\n",
    "        self.n_samples = xy.shape[0]\n",
    "    \n",
    "    def __getitem__(self,index):\n",
    "        #get dataset[index]\n",
    "        return self.x[index], self.y[index]\n",
    "    \n",
    "    def __len__(self):\n",
    "        # len(dataset)\n",
    "        return self.n_samples\n",
    "\n",
    "dataset = WineDataset()\n",
    "batch_size = 4\n",
    "dataloader = DataLoader(dataset=dataset, batch_size=batch_size,shuffle=True)"
   ]
  },
  {
   "cell_type": "code",
   "execution_count": 16,
   "id": "98f4778a",
   "metadata": {},
   "outputs": [
    {
     "name": "stdout",
     "output_type": "stream",
     "text": [
      "178 45\n"
     ]
    }
   ],
   "source": [
    "#Training\n",
    "num_epochs = 2\n",
    "total_samples = len(dataset)\n",
    "num_iters = math.ceil(total_samples / batch_size)\n",
    "print(total_samples,num_iters)"
   ]
  },
  {
   "cell_type": "code",
   "execution_count": 21,
   "id": "7d421bcd",
   "metadata": {},
   "outputs": [
    {
     "name": "stdout",
     "output_type": "stream",
     "text": [
      "epoch 1/2\t step 5/45\t inputs torch.Size([4, 13])\n",
      "epoch 1/2\t step 10/45\t inputs torch.Size([4, 13])\n",
      "epoch 1/2\t step 15/45\t inputs torch.Size([4, 13])\n",
      "epoch 1/2\t step 20/45\t inputs torch.Size([4, 13])\n",
      "epoch 1/2\t step 25/45\t inputs torch.Size([4, 13])\n",
      "epoch 1/2\t step 30/45\t inputs torch.Size([4, 13])\n",
      "epoch 1/2\t step 35/45\t inputs torch.Size([4, 13])\n",
      "epoch 1/2\t step 40/45\t inputs torch.Size([4, 13])\n",
      "epoch 1/2\t step 45/45\t inputs torch.Size([2, 13])\n",
      "epoch 2/2\t step 5/45\t inputs torch.Size([4, 13])\n",
      "epoch 2/2\t step 10/45\t inputs torch.Size([4, 13])\n",
      "epoch 2/2\t step 15/45\t inputs torch.Size([4, 13])\n",
      "epoch 2/2\t step 20/45\t inputs torch.Size([4, 13])\n",
      "epoch 2/2\t step 25/45\t inputs torch.Size([4, 13])\n",
      "epoch 2/2\t step 30/45\t inputs torch.Size([4, 13])\n",
      "epoch 2/2\t step 35/45\t inputs torch.Size([4, 13])\n",
      "epoch 2/2\t step 40/45\t inputs torch.Size([4, 13])\n",
      "epoch 2/2\t step 45/45\t inputs torch.Size([2, 13])\n"
     ]
    }
   ],
   "source": [
    "for epoch in range(num_epochs):\n",
    "    for i,(inputs,labels) in enumerate(dataloader):\n",
    "        #forward, backward, weight update\n",
    "        if (i+1) % 5 == 0:\n",
    "            print(f'epoch {epoch+1}/{num_epochs}\\t step {i+1}/{num_iters}\\t inputs {inputs.shape}')"
   ]
  },
  {
   "cell_type": "code",
   "execution_count": null,
   "id": "23217713",
   "metadata": {},
   "outputs": [],
   "source": [
    "#MNIST\n",
    "#ds = torchvision.datasets.MNIST()"
   ]
  }
 ],
 "metadata": {
  "kernelspec": {
   "display_name": "Python 3",
   "language": "python",
   "name": "python3"
  },
  "language_info": {
   "codemirror_mode": {
    "name": "ipython",
    "version": 3
   },
   "file_extension": ".py",
   "mimetype": "text/x-python",
   "name": "python",
   "nbconvert_exporter": "python",
   "pygments_lexer": "ipython3",
   "version": "3.9.5"
  }
 },
 "nbformat": 4,
 "nbformat_minor": 5
}
