{
 "cells": [
  {
   "cell_type": "code",
   "execution_count": 14,
   "id": "342d9277",
   "metadata": {},
   "outputs": [],
   "source": [
    "# 1. Design model (input,output size, forward pass)\n",
    "# 2. Construct loss and optimizer\n",
    "# 3. Training loop\n",
    "#    - forward pass: computer cost\n",
    "#    - backward pass: compute gradients\n",
    "#    - update weights\n",
    "import torch\n",
    "import torch.nn as nn\n",
    "import numpy as np\n",
    "from sklearn import datasets\n",
    "from sklearn.preprocessing import StandardScaler\n",
    "from sklearn.model_selection import train_test_split"
   ]
  },
  {
   "cell_type": "code",
   "execution_count": 15,
   "id": "0b0d5b72",
   "metadata": {},
   "outputs": [],
   "source": [
    "#Load data\n",
    "bc = datasets.load_breast_cancer()\n",
    "X,y = bc.data, bc.target\n",
    "n_samples, n_features = X.shape\n",
    "X_train, X_test, y_train, y_test = train_test_split(X,y,test_size=0.2,random_state=1234)"
   ]
  },
  {
   "cell_type": "code",
   "execution_count": 16,
   "id": "f11f570e",
   "metadata": {},
   "outputs": [],
   "source": [
    "#Scale\n",
    "sc = StandardScaler()\n",
    "X_train = sc.fit_transform(X_train) #fit and transform\n",
    "X_test = sc.transform(X_test) #just transform\n",
    "\n",
    "X_train = torch.from_numpy(X_train.astype(np.float32))\n",
    "y_train = torch.from_numpy(y_train.astype(np.float32))\n",
    "X_test = torch.from_numpy(X_test.astype(np.float32))\n",
    "y_test = torch.from_numpy(y_test.astype(np.float32))\n",
    "\n",
    "y_train = y_train.view(y_train.shape[0],1)\n",
    "y_test = y_test.view(y_test.shape[0],1)"
   ]
  },
  {
   "cell_type": "code",
   "execution_count": 17,
   "id": "d7b192c8",
   "metadata": {},
   "outputs": [],
   "source": [
    "#model\n",
    "class LogisticRegressionModel(nn.Module):\n",
    "    \n",
    "    def __init__(self,n_features):\n",
    "        super(LogisticRegressionModel,self).__init__()\n",
    "        self.linear = nn.Linear(n_features,1)\n",
    "    \n",
    "    def forward(self,x):\n",
    "        y_pred = torch.sigmoid(self.linear(x))\n",
    "        return y_pred\n",
    "\n",
    "model = LogisticRegressionModel(n_features)"
   ]
  },
  {
   "cell_type": "code",
   "execution_count": 20,
   "id": "a6e1f75e",
   "metadata": {},
   "outputs": [],
   "source": [
    "#loss and optimier\n",
    "learning_rate = 0.01\n",
    "criterion = nn.BCELoss()\n",
    "optimizer = torch.optim.SGD(model.parameters(),lr=learning_rate)"
   ]
  },
  {
   "cell_type": "code",
   "execution_count": 22,
   "id": "ab4e2b3c",
   "metadata": {},
   "outputs": [
    {
     "name": "stdout",
     "output_type": "stream",
     "text": [
      "epoch: 10,t\\ loss = 0.5740951895713806\n",
      "epoch: 20,t\\ loss = 0.4688141345977783\n",
      "epoch: 30,t\\ loss = 0.40386340022087097\n",
      "epoch: 40,t\\ loss = 0.3596094250679016\n",
      "epoch: 50,t\\ loss = 0.3272097408771515\n",
      "epoch: 60,t\\ loss = 0.3022539019584656\n",
      "epoch: 70,t\\ loss = 0.2823050618171692\n",
      "epoch: 80,t\\ loss = 0.2659028172492981\n",
      "epoch: 90,t\\ loss = 0.25211548805236816\n",
      "epoch: 100,t\\ loss = 0.24031883478164673\n"
     ]
    }
   ],
   "source": [
    "#Traning\n",
    "num_epochs = 100\n",
    "for epoch in range(num_epochs):\n",
    "    #forward and loss\n",
    "    y_pred = model(X_train)\n",
    "    loss = criterion(y_pred,y_train)\n",
    "    #Back\n",
    "    loss.backward()\n",
    "    #weight update\n",
    "    optimizer.step()\n",
    "    #empty gradients\n",
    "    optimizer.zero_grad()\n",
    "    if (epoch + 1) % 10 == 0:\n",
    "        print(f'epoch: {epoch+1},t\\ loss = {loss.item()}')"
   ]
  },
  {
   "cell_type": "code",
   "execution_count": 23,
   "id": "f459fe0e",
   "metadata": {},
   "outputs": [
    {
     "name": "stdout",
     "output_type": "stream",
     "text": [
      "Test acc: 0.9211\n"
     ]
    }
   ],
   "source": [
    "#Evaluation\n",
    "with torch.no_grad(): #Similar to detach, defuses gradient storage for the model\n",
    "    y_pred = model(X_test)\n",
    "    y_pred_classes = y_pred.round() #round preds to 0 or 1\n",
    "    acc = y_pred_classes.eq(y_test).sum() / float(y_test.shape[0])\n",
    "    print(f'Test acc: {acc:.4f}')\n",
    "    "
   ]
  },
  {
   "cell_type": "code",
   "execution_count": null,
   "id": "3dc49b8b",
   "metadata": {},
   "outputs": [],
   "source": []
  }
 ],
 "metadata": {
  "kernelspec": {
   "display_name": "Python 3",
   "language": "python",
   "name": "python3"
  },
  "language_info": {
   "codemirror_mode": {
    "name": "ipython",
    "version": 3
   },
   "file_extension": ".py",
   "mimetype": "text/x-python",
   "name": "python",
   "nbconvert_exporter": "python",
   "pygments_lexer": "ipython3",
   "version": "3.9.5"
  }
 },
 "nbformat": 4,
 "nbformat_minor": 5
}
