{
 "cells": [
  {
   "cell_type": "code",
   "execution_count": null,
   "id": "08df4a24",
   "metadata": {},
   "outputs": [],
   "source": [
    "# 1. Design model (input,output size, forward pass)\n",
    "# 2. Construct loss and optimizer\n",
    "# 3. Training loop\n",
    "#    - forward pass: computer cost\n",
    "#    - backward pass: compute gradients\n",
    "#    - update weights\n",
    "import torch\n",
    "import torch.nn as nn"
   ]
  },
  {
   "cell_type": "code",
   "execution_count": 18,
   "id": "e6609570",
   "metadata": {},
   "outputs": [],
   "source": [
    "#Custom model: simple linear model wrapper\n",
    "class LinearRegression(nn.Module):\n",
    "    \n",
    "    def __init__(self, input_dim, output_dim):\n",
    "        super(LinearRegression,self).__init__()\n",
    "        #define layers\n",
    "        self.lin = nn.Linear(input_dim, output_dim)\n",
    "    \n",
    "    def forward(self,X):\n",
    "        return self.lin(X)"
   ]
  },
  {
   "cell_type": "code",
   "execution_count": 19,
   "id": "3b11d832",
   "metadata": {},
   "outputs": [
    {
     "name": "stdout",
     "output_type": "stream",
     "text": [
      "Pred before training: f() = -2.377\n",
      "epoch 1:\t w=-0.307 \t loss=41.64897919\n",
      "epoch 11:\t w=1.179 \t loss=1.48762953\n",
      "epoch 21:\t w=1.432 \t loss=0.42469180\n",
      "epoch 31:\t w=1.485 \t loss=0.37471211\n",
      "epoch 41:\t w=1.506 \t loss=0.35224816\n",
      "epoch 51:\t w=1.522 \t loss=0.33172864\n",
      "epoch 61:\t w=1.536 \t loss=0.31241992\n",
      "epoch 71:\t w=1.550 \t loss=0.29423556\n",
      "epoch 81:\t w=1.563 \t loss=0.27710947\n",
      "epoch 91:\t w=1.576 \t loss=0.26098034\n",
      "Pred before training: f() = 9.150\n"
     ]
    }
   ],
   "source": [
    "X = torch.tensor([[1],[2],[3],[4]], dtype=torch.float32)\n",
    "y = torch.tensor([[2],[4],[6],[8]], dtype=torch.float32)\n",
    "\n",
    "X_test = torch.tensor([[5]], dtype=torch.float32)\n",
    "\n",
    "n_samples, n_features = X.shape\n",
    "\n",
    "input_size = n_features\n",
    "output_size = n_features\n",
    "\n",
    "#model = nn.Linear(input_size,output_size)\n",
    "#Use our custom wrapper model instead\n",
    "model = LinearRegression(input_size,output_size)\n",
    "\n",
    "learning_rate = 0.01\n",
    "n_iters = 100\n",
    "\n",
    "loss = nn.MSELoss()\n",
    "optimizer = torch.optim.SGD(model.parameters(),lr=learning_rate)\n",
    "\n",
    "print(f'Pred before training: f() = {model(X_test).item():.3f}')\n",
    "for epoch in range(n_iters):\n",
    "    #Forward pass\n",
    "    y_pred = model(X)\n",
    "    \n",
    "    #loss\n",
    "    l = loss(y,y_pred)\n",
    "    \n",
    "    #backward\n",
    "    l.backward()\n",
    "    \n",
    "    #Update weights\n",
    "    optimizer.step()\n",
    "    \n",
    "    #Empty grads\n",
    "    optimizer.zero_grad()\n",
    "    \n",
    "    if epoch % 10 == 0:\n",
    "        [w,b] = model.parameters()\n",
    "        print(f'epoch {epoch + 1}:\\t w={w[0][0].item():.3f} \\t loss={l:.8f}')\n",
    "\n",
    "print(f'Pred before training: f() = {model(X_test).item():.3f}')"
   ]
  },
  {
   "cell_type": "code",
   "execution_count": null,
   "id": "d4681ebe",
   "metadata": {},
   "outputs": [],
   "source": []
  }
 ],
 "metadata": {
  "kernelspec": {
   "display_name": "Python 3",
   "language": "python",
   "name": "python3"
  },
  "language_info": {
   "codemirror_mode": {
    "name": "ipython",
    "version": 3
   },
   "file_extension": ".py",
   "mimetype": "text/x-python",
   "name": "python",
   "nbconvert_exporter": "python",
   "pygments_lexer": "ipython3",
   "version": "3.9.5"
  }
 },
 "nbformat": 4,
 "nbformat_minor": 5
}
