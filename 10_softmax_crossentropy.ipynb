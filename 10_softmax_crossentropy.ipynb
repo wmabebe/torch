{
 "cells": [
  {
   "cell_type": "code",
   "execution_count": 1,
   "id": "130ce22e",
   "metadata": {},
   "outputs": [],
   "source": [
    "import torch\n",
    "import torch.nn as nn\n",
    "import numpy as np"
   ]
  },
  {
   "cell_type": "code",
   "execution_count": 6,
   "id": "65a0d836",
   "metadata": {},
   "outputs": [
    {
     "name": "stdout",
     "output_type": "stream",
     "text": [
      "tensor([0.6590, 0.2424, 0.0986])\n",
      "0.4170299470424652 \t 1.840616226196289\n"
     ]
    }
   ],
   "source": [
    "#numpy implementation of softmax\n",
    "def softmax(x):\n",
    "    return np.exp(x) / np.sum(np.exp(x))\n",
    "\n",
    "#numpy implementation of cross entropy\n",
    "def cross_entropy(actual, pred):\n",
    "    return -np.sum(actual * np.log(pred))\n",
    "\n"
   ]
  },
  {
   "cell_type": "code",
   "execution_count": 8,
   "id": "872d6cb5",
   "metadata": {},
   "outputs": [
    {
     "name": "stdout",
     "output_type": "stream",
     "text": [
      "tensor([0.6590, 0.2424, 0.0986])\n",
      "0.4170299470424652 \t 1.840616226196289\n",
      "tensor([0])\n",
      "tensor([1])\n"
     ]
    }
   ],
   "source": [
    "#pytorch softmax\n",
    "x = torch.tensor([2.0,1.0,0.1])\n",
    "output = torch.softmax(x,dim=0) #Specify dim to compute along the first axis\n",
    "print(output)\n",
    "\n",
    "#pytorch cross entropy\n",
    "loss = nn.CrossEntropyLoss()\n",
    "y = torch.tensor([0]) #No more one-hot encoded\n",
    "y_pred_good = torch.tensor([[2.0,1.0,0.1]])\n",
    "y_pred_bad = torch.tensor([[0.5,2.0,0.3]])\n",
    "l1 = loss(y_pred_good,y)\n",
    "l2 = loss(y_pred_bad,y)\n",
    "print(l1.item(),\"\\t\",l2.item())\n",
    "\n",
    "#Extract softmax preds\n",
    "_,preds_good = torch.max(y_pred_good,dim=1)\n",
    "_,preds_bad = torch.max(y_pred_bad,dim=1)\n",
    "\n",
    "print(preds_good)\n",
    "print(preds_bad)"
   ]
  },
  {
   "cell_type": "code",
   "execution_count": 10,
   "id": "892af819",
   "metadata": {},
   "outputs": [],
   "source": [
    "#Careful not to use softmax layer in nn when using crossentropy to avoid redundancy\n",
    "class NeuralNet1(nn.Module):\n",
    "    \n",
    "    def __init__(self,input_size,hidden_size,num_classes):\n",
    "        super(NeuralNet2,self).__init__()\n",
    "        self.linear1 = nn.Linear(input_size,hidden_size)\n",
    "        self.relu = nn.ReLU()\n",
    "        self.linear2 = nn.Linear(hidden_size,num_classes)\n",
    "        #Avoid adding softmax layer since we use CrossEntropy loss function\n",
    "    \n",
    "    def forward(self,x):\n",
    "        out = self.linear1(x)\n",
    "        out = self.relu(out)\n",
    "        out = self.linear2(out)\n",
    "        #Notice no softmax since we use CrossEntropy loss later on during training\n",
    "        return out\n",
    "\n",
    "model = NeuralNet1(input_size=28*28,hidden_size=5,num_classes=3)\n",
    "criterion = nn.CrossEntropyLoss() #CrossEntropyLoss applies softmax + cross_entropy on model output"
   ]
  },
  {
   "cell_type": "code",
   "execution_count": 11,
   "id": "e072edbc",
   "metadata": {},
   "outputs": [],
   "source": [
    "#Remember to apply output layer when using binary cross entropy loss function\n",
    "class NeuralNet2(nn.Module):\n",
    "    \n",
    "    def __init__(self,input_size,hidden_size,num_classes):\n",
    "        super(NeuralNet2,self).__init__()\n",
    "        self.linear1 = nn.Linear(input_size,hidden_size)\n",
    "        self.relu = nn.ReLU()\n",
    "        self.linear2 = nn.Linear(hidden_size,num_classes)\n",
    "        #Avoid adding softmax layer since we use CrossEntropy loss function\n",
    "    \n",
    "    def forward(self,x):\n",
    "        out = self.linear1(x)\n",
    "        out = self.relu(out)\n",
    "        out = self.linear2(out)\n",
    "        y_pred = torch.sigmoid(out) #Notice use of signmoid for binary classification\n",
    "        \n",
    "        return y_pred\n",
    "\n",
    "model = NeuralNet2(input_size=28*28,hidden_size=5,num_classes=3)\n",
    "criterion = nn.BCELoss() #BCELoss requires explicit use of sigmoid output layer"
   ]
  },
  {
   "cell_type": "code",
   "execution_count": null,
   "id": "c724d017",
   "metadata": {},
   "outputs": [],
   "source": []
  }
 ],
 "metadata": {
  "kernelspec": {
   "display_name": "Python 3",
   "language": "python",
   "name": "python3"
  },
  "language_info": {
   "codemirror_mode": {
    "name": "ipython",
    "version": 3
   },
   "file_extension": ".py",
   "mimetype": "text/x-python",
   "name": "python",
   "nbconvert_exporter": "python",
   "pygments_lexer": "ipython3",
   "version": "3.9.5"
  }
 },
 "nbformat": 4,
 "nbformat_minor": 5
}
